{
 "cells": [
  {
   "cell_type": "markdown",
   "id": "65d8eaa2-6ff5-4963-80ef-bf9ee622a25f",
   "metadata": {},
   "source": [
    "# Introduction\n",
    "\n",
    "In this notebook we develop a MLP(multilayer perceptron) neural network for image classification. The data is Keras fashion dataset that has 60000 images of outfit items with 10 classes. "
   ]
  },
  {
   "cell_type": "code",
   "execution_count": null,
   "id": "030df07d-0604-4b72-a579-c6d03dbc97a3",
   "metadata": {},
   "outputs": [],
   "source": [
    "import tensorflow as tf\n",
    "from tensorflow import keras\n",
    "import matplotlib.pyplot as plt"
   ]
  },
  {
   "cell_type": "code",
   "execution_count": 2,
   "id": "8676e691-fa5f-40e6-a132-7683d08139ff",
   "metadata": {},
   "outputs": [],
   "source": [
    "fashion_mnist=keras.datasets.fashion_mnist\n",
    "(x_train_full,y_train_full),(x_test,y_test)=fashion_mnist.load_data()"
   ]
  },
  {
   "cell_type": "code",
   "execution_count": 3,
   "id": "a1e97eec-8914-48f6-b984-b1faeeee984d",
   "metadata": {},
   "outputs": [
    {
     "data": {
      "text/plain": [
       "(60000, 28, 28)"
      ]
     },
     "execution_count": 3,
     "metadata": {},
     "output_type": "execute_result"
    }
   ],
   "source": [
    "x_train_full.shape"
   ]
  },
  {
   "cell_type": "code",
   "execution_count": 4,
   "id": "8bdb3671-345b-44cb-873c-41dc99f3541a",
   "metadata": {},
   "outputs": [
    {
     "data": {
      "text/plain": [
       "dtype('uint8')"
      ]
     },
     "execution_count": 4,
     "metadata": {},
     "output_type": "execute_result"
    }
   ],
   "source": [
    "x_train_full.dtype"
   ]
  },
  {
   "cell_type": "markdown",
   "id": "8473e4bb-adf3-43fc-aa5e-ad1dfdf89fb4",
   "metadata": {},
   "source": [
    "The dataset is already split to test and train sets, but we still need to create a validation set. Also since we might be using gradient descent, we need to scale the input features. We divide the intensities by 255.0 to scale them to 0-1."
   ]
  },
  {
   "cell_type": "code",
   "execution_count": 5,
   "id": "4be8de2a-9a5d-47d4-a404-0389516c981a",
   "metadata": {},
   "outputs": [],
   "source": [
    "x_valid,x_train=x_train_full[:5000]/255.0,x_train_full[5000:]/255.0\n",
    "y_valid,y_train=y_train_full[:5000],y_train_full[5000:]"
   ]
  },
  {
   "cell_type": "code",
   "execution_count": 6,
   "id": "965734b5-ce91-4b47-8acb-db3cae8fe6c5",
   "metadata": {},
   "outputs": [
    {
     "data": {
      "text/plain": [
       "(60000, 28, 28)"
      ]
     },
     "execution_count": 6,
     "metadata": {},
     "output_type": "execute_result"
    }
   ],
   "source": [
    "x_train_full.shape"
   ]
  },
  {
   "cell_type": "code",
   "execution_count": 7,
   "id": "3144608b-d481-4f1e-b076-760265870e4a",
   "metadata": {},
   "outputs": [],
   "source": [
    "class_names=[\"T-shirt/top\",\"Trouser\",\"Pullover\",\"Dress\",\"Coat\",\"Sandal\",\"Shirt\",\"Sneaker\",\"Bag\",\"Ankle boot\"]"
   ]
  },
  {
   "cell_type": "markdown",
   "id": "3546c1c6-bc8f-49ae-b69d-7863cea0efba",
   "metadata": {},
   "source": [
    "Let's look at one of the images and check the class type for the image:"
   ]
  },
  {
   "cell_type": "code",
   "execution_count": 58,
   "id": "b2521901-b4a9-4646-a779-fdb7e3c98bd8",
   "metadata": {},
   "outputs": [
    {
     "data": {
      "image/png": "[encoded data removed]",
      "text/plain": [
       "<Figure size 1440x504 with 10 Axes>"
      ]
     },
     "metadata": {
      "needs_background": "light"
     },
     "output_type": "display_data"
    }
   ],
   "source": [
    "fig = plt.figure(figsize=(20, 7))\n",
    "for i in range (1,11):\n",
    "    fig.add_subplot(1,10, i)\n",
    "    plt.imshow(x_train_full[i-1]) \n",
    "    plt.title(class_names[y_train_full[i-1]])"
   ]
  },
  {
   "cell_type": "markdown",
   "id": "5bb217be-e174-4cbf-811d-260cb7e92e82",
   "metadata": {},
   "source": [
    "# Creating a model using the sequential API\n",
    "Lets start with a simple MLP model with three hidden layers. The input layer passes the instances to the next layer. The input should be reshaped to a one dimentional array, and Flatten layer does this for us. For the hidden layers it is common practice to use ReLu. The number of hidden layers and neurons are selected randomly. Later we optimize these using grid search. The outer layer has 10 neurons (one per each class) and softmax for activation function (the probabilities between 0 and 1 and they all add up to 1)."
   ]
  },
  {
   "cell_type": "code",
   "execution_count": 32,
   "id": "6f1111bf-05d1-4dec-bd30-ac338cd5de57",
   "metadata": {},
   "outputs": [],
   "source": [
    "model=keras.models.Sequential()\n",
    "model.add(keras.layers.Flatten(input_shape=[28,28]))\n",
    "model.add(keras.layers.Dense(300,activation=\"relu\"))\n",
    "model.add(keras.layers.Dense(300,activation=\"relu\"))\n",
    "model.add(keras.layers.Dense(300,activation=\"relu\"))\n",
    "model.add(keras.layers.Dense(10,activation=\"softmax\"))"
   ]
  },
  {
   "cell_type": "markdown",
   "id": "83e86719-84e2-4be3-bdec-626b6f1d70e0",
   "metadata": {},
   "source": [
    "We can display the model's layers with its parameters and shape using summery() method."
   ]
  },
  {
   "cell_type": "code",
   "execution_count": 33,
   "id": "f9ad1530-2eb9-4ded-9a79-d71eba180b7a",
   "metadata": {},
   "outputs": [
    {
     "name": "stdout",
     "output_type": "stream",
     "text": [
      "Model: \"sequential_2\"\n",
      "_________________________________________________________________\n",
      " Layer (type)                Output Shape              Param #   \n",
      "=================================================================\n",
      " flatten_2 (Flatten)         (None, 784)               0         \n",
      "                                                                 \n",
      " dense_7 (Dense)             (None, 300)               235500    \n",
      "                                                                 \n",
      " dense_8 (Dense)             (None, 300)               90300     \n",
      "                                                                 \n",
      " dense_9 (Dense)             (None, 300)               90300     \n",
      "                                                                 \n",
      " dense_10 (Dense)            (None, 10)                3010      \n",
      "                                                                 \n",
      "=================================================================\n",
      "Total params: 419,110\n",
      "Trainable params: 419,110\n",
      "Non-trainable params: 0\n",
      "_________________________________________________________________\n"
     ]
    }
   ],
   "source": [
    "model.summary()"
   ]
  },
  {
   "cell_type": "markdown",
   "id": "5dd3a71c-ca1c-4aae-96e0-30cdd7b1a4e8",
   "metadata": {},
   "source": [
    "We now call the compile() method to specify the loss function and optimizer to use. Since this is a classification task we chose sparse_categorical_crossentropy for loss and accuracy for metric:\n"
   ]
  },
  {
   "cell_type": "code",
   "execution_count": 34,
   "id": "d2d59c55-b1e0-4096-9dd3-f3dea536b28e",
   "metadata": {},
   "outputs": [],
   "source": [
    "model.compile(loss=\"sparse_categorical_crossentropy\", optimizer=\"sgd\",metrics=[\"accuracy\"])"
   ]
  },
  {
   "cell_type": "markdown",
   "id": "bc01484e-da82-447c-86d2-b1a83123a693",
   "metadata": {},
   "source": [
    "## Training and evaluating the model\n",
    "Now the model is ready to be trained. We simply need to call the fit() method:"
   ]
  },
  {
   "cell_type": "code",
   "execution_count": 35,
   "id": "26065e7c-078d-483d-aa5b-e84641caaa4a",
   "metadata": {},
   "outputs": [
    {
     "name": "stdout",
     "output_type": "stream",
     "text": [
      "Epoch 1/30\n",
      "1719/1719 [==============================] - 5s 3ms/step - loss: 0.7337 - accuracy: 0.7535 - val_loss: 0.5497 - val_accuracy: 0.8030\n",
      "Epoch 2/30\n",
      "1719/1719 [==============================] - 4s 2ms/step - loss: 0.4811 - accuracy: 0.8315 - val_loss: 0.4187 - val_accuracy: 0.8588\n",
      "Epoch 3/30\n",
      "1719/1719 [==============================] - 4s 2ms/step - loss: 0.4303 - accuracy: 0.8483 - val_loss: 0.4096 - val_accuracy: 0.8542\n",
      "Epoch 4/30\n",
      "1719/1719 [==============================] - 4s 2ms/step - loss: 0.3981 - accuracy: 0.8585 - val_loss: 0.3982 - val_accuracy: 0.8612\n",
      "Epoch 5/30\n",
      "1719/1719 [==============================] - 4s 2ms/step - loss: 0.3773 - accuracy: 0.8654 - val_loss: 0.3565 - val_accuracy: 0.8770\n",
      "Epoch 6/30\n",
      "1719/1719 [==============================] - 4s 2ms/step - loss: 0.3596 - accuracy: 0.8710 - val_loss: 0.3493 - val_accuracy: 0.8780\n",
      "Epoch 7/30\n",
      "1719/1719 [==============================] - 4s 3ms/step - loss: 0.3457 - accuracy: 0.8745 - val_loss: 0.3633 - val_accuracy: 0.8700\n",
      "Epoch 8/30\n",
      "1719/1719 [==============================] - 4s 3ms/step - loss: 0.3330 - accuracy: 0.8796 - val_loss: 0.3493 - val_accuracy: 0.8730\n",
      "Epoch 9/30\n",
      "1719/1719 [==============================] - 5s 3ms/step - loss: 0.3225 - accuracy: 0.8839 - val_loss: 0.3337 - val_accuracy: 0.8792\n",
      "Epoch 10/30\n",
      "1719/1719 [==============================] - 5s 3ms/step - loss: 0.3115 - accuracy: 0.8875 - val_loss: 0.3211 - val_accuracy: 0.8826\n",
      "Epoch 11/30\n",
      "1719/1719 [==============================] - 5s 3ms/step - loss: 0.3031 - accuracy: 0.8898 - val_loss: 0.3896 - val_accuracy: 0.8602\n",
      "Epoch 12/30\n",
      "1719/1719 [==============================] - 5s 3ms/step - loss: 0.2957 - accuracy: 0.8923 - val_loss: 0.3231 - val_accuracy: 0.8816\n",
      "Epoch 13/30\n",
      "1719/1719 [==============================] - 5s 3ms/step - loss: 0.2863 - accuracy: 0.8946 - val_loss: 0.3161 - val_accuracy: 0.8864\n",
      "Epoch 14/30\n",
      "1719/1719 [==============================] - 5s 3ms/step - loss: 0.2783 - accuracy: 0.8980 - val_loss: 0.3128 - val_accuracy: 0.8880\n",
      "Epoch 15/30\n",
      "1719/1719 [==============================] - 5s 3ms/step - loss: 0.2727 - accuracy: 0.9002 - val_loss: 0.3117 - val_accuracy: 0.8882\n",
      "Epoch 16/30\n",
      "1719/1719 [==============================] - 6s 4ms/step - loss: 0.2646 - accuracy: 0.9033 - val_loss: 0.2987 - val_accuracy: 0.8908\n",
      "Epoch 17/30\n",
      "1719/1719 [==============================] - 6s 4ms/step - loss: 0.2580 - accuracy: 0.9051 - val_loss: 0.3157 - val_accuracy: 0.8858\n",
      "Epoch 18/30\n",
      "1719/1719 [==============================] - 6s 4ms/step - loss: 0.2536 - accuracy: 0.9071 - val_loss: 0.2998 - val_accuracy: 0.8896\n",
      "Epoch 19/30\n",
      "1719/1719 [==============================] - 6s 3ms/step - loss: 0.2478 - accuracy: 0.9093 - val_loss: 0.3118 - val_accuracy: 0.8850\n",
      "Epoch 20/30\n",
      "1719/1719 [==============================] - 6s 4ms/step - loss: 0.2415 - accuracy: 0.9116 - val_loss: 0.3037 - val_accuracy: 0.8904\n",
      "Epoch 21/30\n",
      "1719/1719 [==============================] - 7s 4ms/step - loss: 0.2363 - accuracy: 0.9130 - val_loss: 0.2999 - val_accuracy: 0.8928\n",
      "Epoch 22/30\n",
      "1719/1719 [==============================] - 6s 4ms/step - loss: 0.2301 - accuracy: 0.9164 - val_loss: 0.3168 - val_accuracy: 0.8892\n",
      "Epoch 23/30\n",
      "1719/1719 [==============================] - 6s 4ms/step - loss: 0.2259 - accuracy: 0.9176 - val_loss: 0.3127 - val_accuracy: 0.8890\n",
      "Epoch 24/30\n",
      "1719/1719 [==============================] - 6s 4ms/step - loss: 0.2213 - accuracy: 0.9193 - val_loss: 0.3063 - val_accuracy: 0.8926\n",
      "Epoch 25/30\n",
      "1719/1719 [==============================] - 6s 4ms/step - loss: 0.2152 - accuracy: 0.9216 - val_loss: 0.3001 - val_accuracy: 0.8948\n",
      "Epoch 26/30\n",
      "1719/1719 [==============================] - 6s 4ms/step - loss: 0.2103 - accuracy: 0.9230 - val_loss: 0.2899 - val_accuracy: 0.8952\n",
      "Epoch 27/30\n",
      "1719/1719 [==============================] - 6s 4ms/step - loss: 0.2069 - accuracy: 0.9237 - val_loss: 0.3042 - val_accuracy: 0.8882\n",
      "Epoch 28/30\n",
      "1719/1719 [==============================] - 7s 4ms/step - loss: 0.2024 - accuracy: 0.9261 - val_loss: 0.3028 - val_accuracy: 0.8902\n",
      "Epoch 29/30\n",
      "1719/1719 [==============================] - 7s 4ms/step - loss: 0.1968 - accuracy: 0.9275 - val_loss: 0.3043 - val_accuracy: 0.8902\n",
      "Epoch 30/30\n",
      "1719/1719 [==============================] - 7s 4ms/step - loss: 0.1934 - accuracy: 0.9294 - val_loss: 0.3065 - val_accuracy: 0.8894\n"
     ]
    }
   ],
   "source": [
    "history=model.fit(x_train,y_train,epochs=30,validation_data=(x_valid,y_valid))"
   ]
  },
  {
   "cell_type": "markdown",
   "id": "2e3831d3-aee6-4982-ad40-e41291d71cb7",
   "metadata": {},
   "source": [
    "The fit() method returns a History object containing a dictionary (history.history) containing loss and extera metrics it measured at the end of each epoch on the training and validation sets. This dictionary can be used to plot learning curves:"
   ]
  },
  {
   "cell_type": "code",
   "execution_count": 36,
   "id": "75c692bc-8868-4bf8-b03a-7ba883b67ed2",
   "metadata": {},
   "outputs": [
    {
     "data": {
      "text/plain": [
       "(0.0, 1.0)"
      ]
     },
     "execution_count": 36,
     "metadata": {},
     "output_type": "execute_result"
    },
    {
     "data": {
      "image/png": "[encoded data removed]",
      "text/plain": [
       "<Figure size 1080x360 with 1 Axes>"
      ]
     },
     "metadata": {
      "needs_background": "light"
     },
     "output_type": "display_data"
    }
   ],
   "source": [
    "import pandas as pd\n",
    "pd.DataFrame(history.history).plot(figsize=(15,5))\n",
    "plt.grid(True)\n",
    "plt.gca().set_ylim(0,1)"
   ]
  },
  {
   "cell_type": "markdown",
   "id": "f1d984f0-aba2-411e-8f97-59be02d0c2c0",
   "metadata": {},
   "source": [
    "It seems that 15 epoch is reasonable for this model. Higher epochs seem to start overfitting the model as the val_accuracy and accuracy are diverging. \n",
    "\n",
    "# Hyperparameter Tuning \n",
    "The model we defined above was random. We need to tune the model for hyperparameters. We can use the scikeras package for hyperparameter tuning. Hyperparameter tuning could be computationally expensive, therefore here we use search over a small grid with few hyperparameters. The scikeras library provides a convenient wrapper for deep learning models to be used as classification or regression estimators in scikit-learn."
   ]
  },
  {
   "cell_type": "code",
   "execution_count": 16,
   "id": "3e4c39bf-f63f-4ce6-ab03-175122548618",
   "metadata": {},
   "outputs": [],
   "source": [
    "import scikeras\n",
    "from scikeras.wrappers import KerasClassifier\n",
    "import warnings\n",
    "from tensorflow import get_logger\n",
    "get_logger().setLevel('ERROR')\n",
    "warnings.filterwarnings(\"ignore\", message=\"Setting the random state for TF\")"
   ]
  },
  {
   "cell_type": "code",
   "execution_count": 18,
   "id": "e0c37fc2-402e-4a4f-a974-0413eb2dee14",
   "metadata": {},
   "outputs": [],
   "source": [
    "def build_model(n_hidden=1, n_neurons=100,learning_rate=0.01,input_shape=[28,28],dropout=0.5):\n",
    "    model1=keras.models.Sequential()\n",
    "    model1.add(keras.layers.Flatten(input_shape=input_shape))\n",
    "    for layer in range(n_hidden):\n",
    "        model1.add(keras.layers.Dense(n_neurons,activation=\"relu\"))\n",
    "        model1.add(keras.layers.Dropout(dropout))\n",
    "    model1.add(keras.layers.Dense(10,activation=\"softmax\"))\n",
    "    model1.compile(loss=\"sparse_categorical_crossentropy\",metrics=[\"accuracy\"])\n",
    "    return model1"
   ]
  },
  {
   "cell_type": "markdown",
   "id": "d82d2f05-7428-4060-b95e-8b2cf00a786c",
   "metadata": {},
   "source": [
    "Now we wrapp our build_model in KerasClassifier so we can use it in the sklearn model selection later."
   ]
  },
  {
   "cell_type": "code",
   "execution_count": 19,
   "id": "0ca8773b-525b-4071-8c37-65ac38600cb6",
   "metadata": {},
   "outputs": [],
   "source": [
    "clf = KerasClassifier(\n",
    "    model=build_model,\n",
    "    n_hidden=4,\n",
    "    n_neurons=200,\n",
    "    optimizer=\"Adam\",\n",
    "    dropout=0.5,\n",
    "    learning_rate=0.1,\n",
    "   )"
   ]
  },
  {
   "cell_type": "markdown",
   "id": "d900289b-2129-4806-90df-dda510053d9e",
   "metadata": {},
   "source": [
    "Now we can use grid search over a range of hyperparameters to find an optimized combination. This task might be computationally expensive, so we only try a small set of parameters."
   ]
  },
  {
   "cell_type": "code",
   "execution_count": 31,
   "id": "476e7bb8-1d5c-4de7-beb5-cc06bc4ae551",
   "metadata": {},
   "outputs": [],
   "source": [
    "from sklearn.model_selection import GridSearchCV\n",
    "params = {\n",
    "    'n_hidden': [2,3],\n",
    "    'n_neurons': [200,300],\n",
    "    'optimizer': ['SGD','Adam'],\n",
    "    'learning_rate': [0.1,0.2],\n",
    "    'dropout': [0.5],\n",
    "}\n",
    "# uncomment these lines for grid search\n",
    "#grid = GridSearchCV(clf, params, scoring='accuracy', n_jobs=-1, verbose=True)\n",
    "#grid.fit(x_train,y_train,epochs=15,validation_data=(x_valid,y_valid))\n"
   ]
  },
  {
   "cell_type": "code",
   "execution_count": 38,
   "id": "698a315d-c87a-4ceb-b5d2-30ce9e0e9afe",
   "metadata": {},
   "outputs": [
    {
     "name": "stdout",
     "output_type": "stream",
     "text": [
      "best score from the grid search is 0.859  and best hyperparameters for this model are: {'dropout': 0.5, 'learning_rate': 0.1, 'n_hidden': 2, 'n_neurons': 300, 'optimizer': 'SGD'}\n"
     ]
    }
   ],
   "source": [
    "print('best score from the grid search is',round(grid.best_score_,3),' and best hyperparameters for this model are:', grid.best_params_)"
   ]
  },
  {
   "cell_type": "markdown",
   "id": "c6bbae57-71bc-460b-b921-eb6afb265261",
   "metadata": {},
   "source": [
    "We can save the best estimated model in the grid search as our final model and use it for testing."
   ]
  },
  {
   "cell_type": "code",
   "execution_count": 39,
   "id": "4ae4b665-6776-46ca-b16b-784b43488d60",
   "metadata": {},
   "outputs": [],
   "source": [
    "model_final=grid.best_estimator_"
   ]
  },
  {
   "cell_type": "code",
   "execution_count": 40,
   "id": "d60948bc-f500-4d30-88ad-412e69c1f9bf",
   "metadata": {},
   "outputs": [
    {
     "name": "stdout",
     "output_type": "stream",
     "text": [
      "313/313 [==============================] - 0s 1ms/step\n"
     ]
    }
   ],
   "source": [
    "final_prediction=model_final.predict(x_test)"
   ]
  },
  {
   "cell_type": "code",
   "execution_count": 41,
   "id": "47b9e643-5339-453d-bc54-099ed333dffb",
   "metadata": {},
   "outputs": [
    {
     "data": {
      "text/plain": [
       "0.8452"
      ]
     },
     "execution_count": 41,
     "metadata": {},
     "output_type": "execute_result"
    }
   ],
   "source": [
    "import sklearn\n",
    "final_accuracy=sklearn.metrics.accuracy_score(y_test,final_prediction)\n",
    "final_accuracy"
   ]
  },
  {
   "cell_type": "markdown",
   "id": "6c6eecd5-129a-4453-8b86-078b721adeb8",
   "metadata": {},
   "source": [
    "The test accuracy of the model is 0.8452. Lets look at some of the predictions."
   ]
  },
  {
   "cell_type": "code",
   "execution_count": 61,
   "id": "1f510ce3-2707-4268-8f0c-90ca0cf7f5fb",
   "metadata": {},
   "outputs": [
    {
     "name": "stdout",
     "output_type": "stream",
     "text": [
      "1/1 [==============================] - 0s 17ms/step\n"
     ]
    }
   ],
   "source": [
    "x_new=x_test[10:20]\n",
    "y_pred=model_final.predict(x_new)"
   ]
  },
  {
   "cell_type": "code",
   "execution_count": 62,
   "id": "056a7bd7-7d3a-43ad-a454-04609b2be397",
   "metadata": {},
   "outputs": [
    {
     "data": {
      "image/png": "[encoded data removed]",
      "text/plain": [
       "<Figure size 1440x504 with 10 Axes>"
      ]
     },
     "metadata": {
      "needs_background": "light"
     },
     "output_type": "display_data"
    }
   ],
   "source": [
    "fig = plt.figure(figsize=(20, 7))\n",
    "for i in range (1,11):\n",
    "    fig.add_subplot(1,10, i)\n",
    "    plt.imshow(x_new[i-1]) \n",
    "    plt.title(class_names[y_pred[i-1]])\n",
    " "
   ]
  },
  {
   "cell_type": "markdown",
   "id": "aac39457-3f04-40ef-8a0a-2dbccab9da74",
   "metadata": {},
   "source": [
    "It seems that the model is having trouble diffrenciating sandals from sneakers. The model is doing a good job classifying other images."
   ]
  },
  {
   "cell_type": "markdown",
   "id": "49edafcd-ad03-434f-a57b-45ec77f7c760",
   "metadata": {},
   "source": [
    "# Conclusion\n",
    " A MLP classifier was developed for classifying fashion item images from Keras dataset.The hyperparameter tuning was done using grid search with these parameters: 'dropout': 0.5, 'learning_rate': 0.1, 'n_hidden': 2, 'n_neurons': 300, 'optimizer': 'SGD'.\n",
    " The test accuracy was 0.859 and the model does a decent job identifying most of classes. However it seems there are misclassification between sandals and sneekers and that might be the reason for low accuracy."
   ]
  }
 ],
 "metadata": {
  "kernelspec": {
   "display_name": "Python 3 (ipykernel)",
   "language": "python",
   "name": "python3"
  },
  "language_info": {
   "codemirror_mode": {
    "name": "ipython",
    "version": 3
   },
   "file_extension": ".py",
   "mimetype": "text/x-python",
   "name": "python",
   "nbconvert_exporter": "python",
   "pygments_lexer": "ipython3",
   "version": "3.9.7"
  }
 },
 "nbformat": 4,
 "nbformat_minor": 5
}
